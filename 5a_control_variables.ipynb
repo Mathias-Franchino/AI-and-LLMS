{
 "cells": [
  {
   "cell_type": "markdown",
   "id": "2bcaad33",
   "metadata": {},
   "source": [
    "For this code ai helped me a lot, especially for the merging between datasets"
   ]
  },
  {
   "cell_type": "code",
   "execution_count": 5,
   "id": "c050a2c4",
   "metadata": {},
   "outputs": [],
   "source": [
    "import pandas as pd"
   ]
  },
  {
   "cell_type": "code",
   "execution_count": 6,
   "id": "30699417",
   "metadata": {},
   "outputs": [],
   "source": [
    "df = pd.read_excel(r'full_normalized_dataset_correct.xlsx')"
   ]
  },
  {
   "cell_type": "code",
   "execution_count": 7,
   "id": "99b0b241",
   "metadata": {},
   "outputs": [
    {
     "data": {
      "text/plain": [
       "Index(['speechID', 'memberID', 'partyID', 'constID', 'title', 'date',\n",
       "       'member_name', 'party_name', 'const_name', 'speech', 'ni_score',\n",
       "       'five_year_period', 'ni_similarity', 'clean_speech', 'embeddings',\n",
       "       'Anglo-Irish Agreement', 'Governance UK/Ireland', 'topic_4_prob',\n",
       "       'Cross-Border Legal Frameworks', 'topic_6_prob', 'topic_8_prob',\n",
       "       'topic_9_prob', 'North-South Coordination',\n",
       "       'Political Dialogue & Prisoner Releases', 'topic_12_prob',\n",
       "       'topic_13_prob', 'Good Friday Agreement Protections', 'topic_16_prob',\n",
       "       'topic_17_prob', 'main_topic', 'nationalist_pop', 'unionist_pop',\n",
       "       'violence_deaths', 'Paramilitary Activities & Ceasefires',\n",
       "       'Agreement Negotiation & Implementation',\n",
       "       'Security Reforms (Decommissioning & Policing)',\n",
       "       'Human Rights & Prisoner Policies',\n",
       "       'Terrorism, Paramilitary Violence, and Security Cooperation',\n",
       "       'Peace Agreements and Political Settlements',\n",
       "       'UK/Ireland & Cross-Border Relations', 'year'],\n",
       "      dtype='object')"
      ]
     },
     "execution_count": 7,
     "metadata": {},
     "output_type": "execute_result"
    }
   ],
   "source": [
    "df.columns"
   ]
  },
  {
   "cell_type": "markdown",
   "id": "fc83a24a",
   "metadata": {},
   "source": [
    "Adding border_consituency variable"
   ]
  },
  {
   "cell_type": "code",
   "execution_count": 8,
   "id": "211a26ec",
   "metadata": {},
   "outputs": [
    {
     "data": {
      "text/plain": [
       "array(['Athlone-Longford', 'Waterford', 'Dublin County', 'Kerry North',\n",
       "       'Dublin South-West', 'Monaghan', 'Monaghan South', 'Wexford South',\n",
       "       'Donegal East', 'Dublin South', 'Clare East', 'Louth',\n",
       "       'Dublin (Clontarf)', 'Limerick', 'Donegal West', 'Cork West',\n",
       "       'Meath-Westmeath', 'Dublin North-West', 'Cork South-East',\n",
       "       'Dublin Townships', 'Cork South', 'Tipperary', 'Kerry South',\n",
       "       'Mayo North', 'Limerick East', 'Wexford',\n",
       "       'Dún Laoghaire and Rathdown', 'Cork North', 'Tipperary South',\n",
       "       'Dublin North-East', 'Limerick West', 'Donegal North-East',\n",
       "       'Sligo-Leitrim', 'Cork Borough', 'Longford -Westmeath',\n",
       "       'Dublin South-Central', 'Cavan', 'Clare', 'Dublin South-East',\n",
       "       'Tipperary North', 'Leix-Offaly', 'Cork Mid', 'Mayo East',\n",
       "       'Cork City North-West', 'Cork City South-East', 'Cork East',\n",
       "       'Laoighis-Offaly', 'Dublin County South', 'Galway West', 'Meath',\n",
       "       'Cork North-East', 'Dublin County North', 'Kildare', 'Mayo West',\n",
       "       'Donegal-Leitrim', 'Dublin North Central', 'Dublin (Ballyfermot)',\n",
       "       'Dublin County Mid', 'Roscommon', 'Cavan-Monaghan',\n",
       "       'Dún Laoghaire', 'Roscommon-Leitrim', 'Dublin North',\n",
       "       'Cork North-Central', 'Carlow-Kilkenny', 'Donegal South-West',\n",
       "       'Galway East', 'Wicklow', 'Dublin (Finglas)', 'Cork South-Central',\n",
       "       'Dublin West', 'Donegal', 'Cork South-West', 'Cork North-West',\n",
       "       'Dublin County West', 'Dublin Central', 'Longford-Roscommon',\n",
       "       'Mayo', 'Galway North-East', nan], dtype=object)"
      ]
     },
     "execution_count": 8,
     "metadata": {},
     "output_type": "execute_result"
    }
   ],
   "source": [
    "df[\"const_name\"].unique()"
   ]
  },
  {
   "cell_type": "code",
   "execution_count": 9,
   "id": "ef165cf3",
   "metadata": {},
   "outputs": [],
   "source": [
    "border_constituencies = {\n",
    "    'Donegal', 'Donegal East', 'Donegal West', 'Donegal North-East', 'Donegal-Leitrim',\n",
    "    'Donegal South-West', 'Cavan', 'Monaghan', 'Monaghan South', 'Cavan-Monaghan',\n",
    "    'Leitrim', 'Sligo-Leitrim', 'Louth'\n",
    "}\n",
    "\n",
    "df['border_constituency'] = df['const_name'].apply(lambda x: 1 if x in border_constituencies else 0)\n"
   ]
  },
  {
   "cell_type": "markdown",
   "id": "befeb4c2",
   "metadata": {},
   "source": [
    "Merging with Comparative Manifesto Project for RILE scores of parties"
   ]
  },
  {
   "cell_type": "code",
   "execution_count": 10,
   "id": "e241dc2f",
   "metadata": {},
   "outputs": [
    {
     "data": {
      "text/plain": [
       "array(['Fianna Fáil', 'Fine Gael', 'Sinn Féin'], dtype=object)"
      ]
     },
     "execution_count": 10,
     "metadata": {},
     "output_type": "execute_result"
    }
   ],
   "source": [
    "df['party_name'].unique()"
   ]
  },
  {
   "cell_type": "code",
   "execution_count": 11,
   "id": "b370b74c",
   "metadata": {},
   "outputs": [
    {
     "data": {
      "text/plain": [
       "Index(['speechID', 'memberID', 'partyID', 'constID', 'title', 'date',\n",
       "       'member_name', 'party_name', 'const_name', 'speech', 'ni_score',\n",
       "       'five_year_period', 'ni_similarity', 'clean_speech', 'embeddings',\n",
       "       'Anglo-Irish Agreement', 'Governance UK/Ireland', 'topic_4_prob',\n",
       "       'Cross-Border Legal Frameworks', 'topic_6_prob', 'topic_8_prob',\n",
       "       'topic_9_prob', 'North-South Coordination',\n",
       "       'Political Dialogue & Prisoner Releases', 'topic_12_prob',\n",
       "       'topic_13_prob', 'Good Friday Agreement Protections', 'topic_16_prob',\n",
       "       'topic_17_prob', 'main_topic', 'nationalist_pop', 'unionist_pop',\n",
       "       'violence_deaths', 'Paramilitary Activities & Ceasefires',\n",
       "       'Agreement Negotiation & Implementation',\n",
       "       'Security Reforms (Decommissioning & Policing)',\n",
       "       'Human Rights & Prisoner Policies',\n",
       "       'Terrorism, Paramilitary Violence, and Security Cooperation',\n",
       "       'Peace Agreements and Political Settlements',\n",
       "       'UK/Ireland & Cross-Border Relations', 'year', 'border_constituency',\n",
       "       'partycode'],\n",
       "      dtype='object')"
      ]
     },
     "execution_count": 11,
     "metadata": {},
     "output_type": "execute_result"
    }
   ],
   "source": [
    "mapping_code = {\"Sinn Féin\": 53951, \"Fine Gael\": 53520, \"Fianna Fáil\": 53620}\n",
    "\n",
    "df['partycode'] = df['party_name'].map(mapping_code)\n",
    "df.columns"
   ]
  },
  {
   "cell_type": "code",
   "execution_count": 12,
   "id": "d2ee0f31",
   "metadata": {},
   "outputs": [
    {
     "name": "stderr",
     "output_type": "stream",
     "text": [
      "C:\\Users\\mathi\\AppData\\Local\\Temp\\ipykernel_29348\\4001346104.py:1: DtypeWarning: Columns (10) have mixed types. Specify dtype option on import or set low_memory=False.\n",
      "  cmp_df = pd.read_csv(r'MPDataset_MPDS2024a.csv')\n"
     ]
    }
   ],
   "source": [
    "cmp_df = pd.read_csv(r'MPDataset_MPDS2024a.csv')"
   ]
  },
  {
   "cell_type": "code",
   "execution_count": 13,
   "id": "f599421f",
   "metadata": {},
   "outputs": [
    {
     "data": {
      "text/plain": [
       "Index(['country', 'countryname', 'oecdmember', 'eumember', 'edate', 'date',\n",
       "       'party', 'partyname', 'partyabbrev', 'parfam',\n",
       "       ...\n",
       "       'per608_3', 'per703_1', 'per703_2', 'rile', 'planeco', 'markeco',\n",
       "       'welfare', 'intpeace', 'datasetversion', 'id_perm'],\n",
       "      dtype='object', length=175)"
      ]
     },
     "execution_count": 13,
     "metadata": {},
     "output_type": "execute_result"
    }
   ],
   "source": [
    "cmp_df.columns"
   ]
  },
  {
   "cell_type": "code",
   "execution_count": null,
   "id": "ca7fc67e",
   "metadata": {},
   "outputs": [],
   "source": [
    "# Step 1: Prepare the CMP dataset\n",
    "cmp_df = cmp_df[[\"country\", \"party\", \"partyname\", \"edate\", \"rile\"]]\n",
    "cmp_df = cmp_df[(cmp_df[\"country\"] == 53) & (cmp_df[\"party\"].isin([53951, 53520, 53620]))]\n",
    "\n",
    "# Extract the year from election dates\n",
    "cmp_df['year'] = pd.to_datetime(cmp_df['edate'], dayfirst=True).dt.year\n",
    "cmp_df.rename(columns={'party': 'partycode'}, inplace=True)\n",
    "\n",
    "# Sort to get the latest rile available for that year\n",
    "cmp_df = cmp_df.sort_values(['partycode', 'year', 'edate'])\n",
    "cmp_df = cmp_df.drop_duplicates(subset=['partycode', 'year'], keep='last')\n",
    "\n",
    "# Step 2: Build the year-party grid\n",
    "complete_years = pd.DataFrame({\n",
    "    'year': range(cmp_df['year'].min(), cmp_df['year'].max() + 1),\n",
    "    'key': 1\n",
    "})\n",
    "parties = pd.DataFrame({\n",
    "    'partycode': cmp_df['partycode'].unique(),\n",
    "    'key': 1\n",
    "})\n",
    "grid = complete_years.merge(parties, on='key').drop(columns='key')\n",
    "\n",
    "# Step 3: Merge and forward-fill missing values\n",
    "cmp_df_completo = grid.merge(\n",
    "    cmp_df[['partycode', 'year', 'rile']],\n",
    "    on=['partycode', 'year'],\n",
    "    how='left'\n",
    ").sort_values(['partycode', 'year']).ffill()\n"
   ]
  },
  {
   "cell_type": "code",
   "execution_count": null,
   "id": "04678b19",
   "metadata": {},
   "outputs": [
    {
     "name": "stdout",
     "output_type": "stream",
     "text": [
      "{'partycode', 'year'}\n"
     ]
    }
   ],
   "source": [
    "# Find and print the common column names between the two dataframes\n",
    "common_columns = set(df.columns).intersection(set(cmp_df.columns))\n",
    "print(common_columns)"
   ]
  },
  {
   "cell_type": "code",
   "execution_count": null,
   "id": "a5e630c9",
   "metadata": {},
   "outputs": [],
   "source": [
    "# Ensure that the 'partycode' and 'year' columns in both dataframes are of integer type\n",
    "df['partycode'] = df['partycode'].astype(int)\n",
    "cmp_df_completo['partycode'] = cmp_df_completo['partycode'].astype(int)\n",
    "df['year'] = df['year'].astype(int)\n",
    "cmp_df_completo['year'] = cmp_df_completo['year'].astype(int)\n"
   ]
  },
  {
   "cell_type": "code",
   "execution_count": null,
   "id": "2ab6e837",
   "metadata": {},
   "outputs": [],
   "source": [
    "# Merge the main dataframe (df) with the CMP dataset (cmp_df_completo)\n",
    "# using 'partycode' and 'year' as keys, performing a left join.\n",
    "df_controls = df.merge(\n",
    "    cmp_df_completo,\n",
    "    on=['partycode', 'year'],\n",
    "    how='left'\n",
    ")"
   ]
  },
  {
   "cell_type": "code",
   "execution_count": 18,
   "id": "8d868c87",
   "metadata": {},
   "outputs": [
    {
     "name": "stdout",
     "output_type": "stream",
     "text": [
      "Righe originali: 4619\n",
      "Righe dopo merge: 4619\n",
      "Valori mancanti in rile: 0\n"
     ]
    }
   ],
   "source": [
    "print(f\"Righe originali: {len(df)}\")\n",
    "print(f\"Righe dopo merge: {len(df_controls)}\")\n",
    "print(\"Valori mancanti in rile:\", df_controls['rile'].isna().sum())\n"
   ]
  },
  {
   "cell_type": "code",
   "execution_count": 19,
   "id": "25f7fde7",
   "metadata": {},
   "outputs": [],
   "source": [
    "# 1. Rimuovi i topic già uniti nei cluster\n",
    "topic_prob_cols_to_remove = [\n",
    "    'topic_4_prob', 'topic_6_prob', 'topic_8_prob',\n",
    "    'topic_9_prob', 'topic_12_prob', 'topic_13_prob',\n",
    "    'topic_16_prob', 'topic_17_prob'\n",
    "]\n",
    "\n",
    "df_cleaned = df_controls.drop(columns=topic_prob_cols_to_remove)\n",
    "\n",
    "# 2. Riordina le colonne\n",
    "ordered_columns = [\n",
    "    # Info discorso\n",
    "    'speechID', 'memberID', 'partyID', 'constID', 'title', 'date', 'year',\n",
    "    'member_name', 'party_name', 'const_name', 'speech', 'clean_speech',\n",
    "\n",
    "    # Variabili di contenuto\n",
    "    'main_topic',\n",
    "    'Anglo-Irish Agreement', 'Governance UK/Ireland',\n",
    "    'Cross-Border Legal Frameworks', 'North-South Coordination',\n",
    "    'Political Dialogue & Prisoner Releases',\n",
    "    'Good Friday Agreement Protections',\n",
    "    'Paramilitary Activities & Ceasefires',\n",
    "    'Agreement Negotiation & Implementation',\n",
    "    'Security Reforms (Decommissioning & Policing)',\n",
    "    'Human Rights & Prisoner Policies',\n",
    "    'Terrorism, Paramilitary Violence, and Security Cooperation',\n",
    "    'Peace Agreements and Political Settlements',\n",
    "    'UK/Ireland & Cross-Border Relations',\n",
    "\n",
    "    # Variabili di contesto\n",
    "    'ni_score', 'ni_similarity', 'violence_deaths',\n",
    "    'nationalist_pop', 'unionist_pop',\n",
    "\n",
    "    # Controlli\n",
    "    'five_year_period', 'border_constituency', 'partycode', 'rile',\n",
    "\n",
    "    # Extra (se vuoi tenerlo per NLP)\n",
    "    'embeddings'\n",
    "]\n",
    "\n",
    "# Applica il nuovo ordine\n",
    "df_cleaned = df_cleaned[ordered_columns]\n"
   ]
  },
  {
   "cell_type": "code",
   "execution_count": 20,
   "id": "813e179f",
   "metadata": {},
   "outputs": [
    {
     "data": {
      "text/plain": [
       "Index(['speechID', 'memberID', 'partyID', 'constID', 'title', 'date', 'year',\n",
       "       'member_name', 'party_name', 'const_name', 'speech', 'clean_speech',\n",
       "       'main_topic', 'Anglo-Irish Agreement', 'Governance UK/Ireland',\n",
       "       'Cross-Border Legal Frameworks', 'North-South Coordination',\n",
       "       'Political Dialogue & Prisoner Releases',\n",
       "       'Good Friday Agreement Protections',\n",
       "       'Paramilitary Activities & Ceasefires',\n",
       "       'Agreement Negotiation & Implementation',\n",
       "       'Security Reforms (Decommissioning & Policing)',\n",
       "       'Human Rights & Prisoner Policies',\n",
       "       'Terrorism, Paramilitary Violence, and Security Cooperation',\n",
       "       'Peace Agreements and Political Settlements',\n",
       "       'UK/Ireland & Cross-Border Relations', 'ni_score', 'ni_similarity',\n",
       "       'violence_deaths', 'nationalist_pop', 'unionist_pop',\n",
       "       'five_year_period', 'border_constituency', 'partycode', 'rile',\n",
       "       'embeddings'],\n",
       "      dtype='object')"
      ]
     },
     "execution_count": 20,
     "metadata": {},
     "output_type": "execute_result"
    }
   ],
   "source": [
    "df_cleaned.columns"
   ]
  },
  {
   "cell_type": "code",
   "execution_count": 21,
   "id": "e55c921f",
   "metadata": {},
   "outputs": [],
   "source": [
    "df_cleaned.to_excel('normalized_controls_dataset_correct.xlsx', index=False)"
   ]
  }
 ],
 "metadata": {
  "kernelspec": {
   "display_name": "Python 3",
   "language": "python",
   "name": "python3"
  },
  "language_info": {
   "codemirror_mode": {
    "name": "ipython",
    "version": 3
   },
   "file_extension": ".py",
   "mimetype": "text/x-python",
   "name": "python",
   "nbconvert_exporter": "python",
   "pygments_lexer": "ipython3",
   "version": "3.10.11"
  }
 },
 "nbformat": 4,
 "nbformat_minor": 5
}
