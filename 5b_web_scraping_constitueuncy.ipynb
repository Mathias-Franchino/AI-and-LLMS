{
 "cells": [
  {
   "cell_type": "markdown",
   "id": "7255e58f",
   "metadata": {},
   "source": [
    "For this code AI was helpull, it helped me genreate the majority of the code, especially for the web_scraping. It was a try and error situation, without it i would not be able to extract the missing informations"
   ]
  },
  {
   "cell_type": "code",
   "execution_count": 1,
   "id": "66feeb56",
   "metadata": {},
   "outputs": [],
   "source": [
    "import pandas as pd"
   ]
  },
  {
   "cell_type": "code",
   "execution_count": null,
   "id": "3bf441c5",
   "metadata": {},
   "outputs": [
    {
     "name": "stderr",
     "output_type": "stream",
     "text": [
      "C:\\Users\\mathi\\AppData\\Local\\Temp\\ipykernel_11592\\112941187.py:2: DtypeWarning: Columns (14) have mixed types. Specify dtype option on import or set low_memory=False.\n",
      "  df_csv = pd.read_csv('dail-speeches.csv')\n"
     ]
    }
   ],
   "source": [
    "\n",
    "df_csv = pd.read_csv('dail-speeches.csv')\n",
    "df_excel = pd.read_excel('normalized_controls_dataset_correct.xlsx')"
   ]
  },
  {
   "cell_type": "code",
   "execution_count": null,
   "id": "e0eeb631",
   "metadata": {},
   "outputs": [
    {
     "name": "stdout",
     "output_type": "stream",
     "text": [
      "['Michael P. Kitt' 'Brian Cowen' 'Aengus Ó Snodaigh'\n",
      " 'Caoimhghín Ó Caoláin' 'Pat Carey' 'Dr Martin Mansergh' 'Enda Kenny'\n",
      " 'Alan Shatter' 'Gerry Adams' 'Martin Ferris' 'Timmy Dooley'\n",
      " \"Patrick O'Donovan\" 'Dessie Ellis' 'Charlie McConalogue' 'Brendan Smith'\n",
      " 'Paschal Donohoe' 'Seán Crowe' 'Bernard J. Durkan' 'Michael Colreavy'\n",
      " 'Charles Flanagan' 'Mary Lou McDonald' 'Brian Walsh' 'Joe McHugh'\n",
      " 'Micheál Martin' 'Brian Stanley' 'Pearse Doherty' 'Frances Fitzgerald'\n",
      " 'Billy Kelleher' 'Richard Bruton' 'Donnchadh Ó Laoghaire'\n",
      " 'Regina Doherty' 'Barry Cowen' 'David Cullinane' 'Dara Murphy'\n",
      " 'Stephen S. Donnelly' 'Seán Ó Fearghaíl' \"Darragh O'Brien\"\n",
      " 'Michael McGrath' 'Michael Noonan' 'Leo Varadkar' 'Eoin Ó Broin'\n",
      " 'Helen McEntee' 'Simon Coveney' 'Declan Breathnach' 'Lisa Chambers'\n",
      " 'Mary Butler' \"Louise O'Reilly\" 'Paul Kehoe' 'Seán Kyne']\n"
     ]
    }
   ],
   "source": [
    "# Filter speakers without memberID or partyID\n",
    "speakers_without_ids = df_excel[df_excel['memberID'].isna() | df_excel['partyID'].isna()]['member_name'].unique()\n",
    "\n",
    "# Create a list of speakers without IDs\n",
    "speakers_without_ids_list = list(speakers_without_ids)\n",
    "\n",
    "# Print the speakers\n",
    "print(speakers_without_ids)"
   ]
  },
  {
   "cell_type": "code",
   "execution_count": null,
   "id": "43a1641e",
   "metadata": {},
   "outputs": [
    {
     "name": "stdout",
     "output_type": "stream",
     "text": [
      "Speaker trovati in df_csv: ['Michael P. Kitt', 'Brian Cowen', 'Aengus Ó Snodaigh', 'Caoimhghín Ó Caoláin', 'Pat Carey', 'Dr Martin Mansergh', 'Enda Kenny', 'Alan Shatter', 'Gerry Adams', 'Martin Ferris', 'Timmy Dooley', \"Patrick O'Donovan\", 'Dessie Ellis', 'Charlie McConalogue', 'Brendan Smith', 'Paschal Donohoe', 'Seán Crowe', 'Bernard J. Durkan', 'Michael Colreavy', 'Charles Flanagan', 'Mary Lou McDonald', 'Brian Walsh', 'Joe McHugh', 'Micheál Martin', 'Brian Stanley', 'Pearse Doherty', 'Frances Fitzgerald', 'Billy Kelleher', 'Richard Bruton', 'Donnchadh Ó Laoghaire', 'Regina Doherty', 'Barry Cowen', 'David Cullinane', 'Dara Murphy', 'Stephen S. Donnelly', 'Seán Ó Fearghaíl', \"Darragh O'Brien\", 'Michael McGrath', 'Michael Noonan', 'Leo Varadkar', 'Eoin Ó Broin', 'Helen McEntee', 'Simon Coveney', 'Declan Breathnach', 'Lisa Chambers', 'Mary Butler', \"Louise O'Reilly\", 'Paul Kehoe', 'Seán Kyne']\n"
     ]
    }
   ],
   "source": [
    "# Check which speakers in speakers_without_ids are present in df_csv\n",
    "speakers_in_csv = [speaker for speaker in speakers_without_ids if speaker in df_csv['speaker'].values]\n",
    "\n",
    "# Print the speakers found\n",
    "print(\"Speakers found in df_csv:\", speakers_in_csv)"
   ]
  },
  {
   "cell_type": "code",
   "execution_count": null,
   "id": "b61dcc76",
   "metadata": {},
   "outputs": [
    {
     "name": "stdout",
     "output_type": "stream",
     "text": [
      "                     speaker        party iso3country  \\\n",
      "10             Martin Ferris    Sinn Féin         IRE   \n",
      "13         Bernard J. Durkan    Fine Gael         IRE   \n",
      "14         Aengus Ó Snodaigh    Sinn Féin         IRE   \n",
      "19               Brian Cowen  Fianna Fáil         IRE   \n",
      "23                Enda Kenny    Fine Gael         IRE   \n",
      "...                      ...          ...         ...   \n",
      "2515365        Lisa Chambers  Fianna Fáil         IRE   \n",
      "2807238  Stephen S. Donnelly  Fianna Fáil         IRE   \n",
      "3225930  Stephen S. Donnelly  Fianna Fáil         IRE   \n",
      "3415071      Darragh O'Brien  Fianna Fáil         IRE   \n",
      "3878319     Charles Flanagan    Fine Gael         IRE   \n",
      "\n",
      "                                               speaker_uri  \n",
      "10       /ie/oireachtas/member/id/Martin-Ferris.D.2002-...  \n",
      "13       /ie/oireachtas/member/id/Bernard-Durkan.D.1981...  \n",
      "14       /ie/oireachtas/member/id/Aengus-Ó-Snodaigh.D.2...  \n",
      "19       /ie/oireachtas/member/id/Brian-Cowen.D.1984-06-14  \n",
      "23        /ie/oireachtas/member/id/Enda-Kenny.D.1975-11-12  \n",
      "...                                                    ...  \n",
      "2515365  /ie/oireachtas/member/id/Lisa-Chambers.D.2016-...  \n",
      "2807238  /ie/oireachtas/member/id/Stephen-Donnelly.D.20...  \n",
      "3225930                                                  -  \n",
      "3415071                                                  -  \n",
      "3878319                                                  -  \n",
      "\n",
      "[300 rows x 4 columns]\n",
      "                     speaker        party iso3country  \\\n",
      "10             Martin Ferris    Sinn Féin         IRE   \n",
      "13         Bernard J. Durkan    Fine Gael         IRE   \n",
      "14         Aengus Ó Snodaigh    Sinn Féin         IRE   \n",
      "19               Brian Cowen  Fianna Fáil         IRE   \n",
      "23                Enda Kenny    Fine Gael         IRE   \n",
      "...                      ...          ...         ...   \n",
      "2515365        Lisa Chambers  Fianna Fáil         IRE   \n",
      "2807238  Stephen S. Donnelly  Fianna Fáil         IRE   \n",
      "3225930  Stephen S. Donnelly  Fianna Fáil         IRE   \n",
      "3415071      Darragh O'Brien  Fianna Fáil         IRE   \n",
      "3878319     Charles Flanagan    Fine Gael         IRE   \n",
      "\n",
      "                                               speaker_uri  \n",
      "10       /ie/oireachtas/member/id/Martin-Ferris.D.2002-...  \n",
      "13       /ie/oireachtas/member/id/Bernard-Durkan.D.1981...  \n",
      "14       /ie/oireachtas/member/id/Aengus-Ó-Snodaigh.D.2...  \n",
      "19       /ie/oireachtas/member/id/Brian-Cowen.D.1984-06-14  \n",
      "23        /ie/oireachtas/member/id/Enda-Kenny.D.1975-11-12  \n",
      "...                                                    ...  \n",
      "2515365  /ie/oireachtas/member/id/Lisa-Chambers.D.2016-...  \n",
      "2807238  /ie/oireachtas/member/id/Stephen-Donnelly.D.20...  \n",
      "3225930                                                  -  \n",
      "3415071                                                  -  \n",
      "3878319                                                  -  \n",
      "\n",
      "[297 rows x 4 columns]\n",
      "[{'speaker': 'Martin Ferris', 'speaker_uri': '/ie/oireachtas/member/id/Martin-Ferris.D.2002-06-06'}, {'speaker': 'Bernard J. Durkan', 'speaker_uri': '/ie/oireachtas/member/id/Bernard-Durkan.D.1981-06-30'}, {'speaker': 'Aengus Ó Snodaigh', 'speaker_uri': '/ie/oireachtas/member/id/Aengus-Ó-Snodaigh.D.2002-06-06'}, {'speaker': 'Brian Cowen', 'speaker_uri': '/ie/oireachtas/member/id/Brian-Cowen.D.1984-06-14'}, {'speaker': 'Enda Kenny', 'speaker_uri': '/ie/oireachtas/member/id/Enda-Kenny.D.1975-11-12'}, {'speaker': 'Caoimhghín Ó Caoláin', 'speaker_uri': '/ie/oireachtas/member/id/Caoimhghín-Ó-Caoláin.D.1997-06-26'}, {'speaker': 'Alan Shatter', 'speaker_uri': '/ie/oireachtas/member/id/Alan-Shatter.D.1981-06-30'}, {'speaker': 'Paul Kehoe', 'speaker_uri': '/ie/oireachtas/member/id/Paul-Kehoe.D.2002-06-06'}, {'speaker': 'Billy Kelleher', 'speaker_uri': '/ie/oireachtas/member/id/Billy-Kelleher.S.1993-02-17'}, {'speaker': 'Leo Varadkar', 'speaker_uri': '/ie/oireachtas/member/id/Leo-Varadkar.D.2007-06-14'}, {'speaker': 'Richard Bruton', 'speaker_uri': '/ie/oireachtas/member/id/Richard-Bruton.S.1981-10-08'}, {'speaker': 'Pat Carey', 'speaker_uri': '/ie/oireachtas/member/id/Pat-Carey.D.1997-06-26'}, {'speaker': 'Joe McHugh', 'speaker_uri': '/ie/oireachtas/member/id/Joe-McHugh.S.2002-09-12'}, {'speaker': 'Simon Coveney', 'speaker_uri': '/ie/oireachtas/member/id/Simon-Coveney.D.1998-10-23'}, {'speaker': 'Charles Flanagan', 'speaker_uri': '/ie/oireachtas/member/id/Charles-Flanagan.D.1987-03-10'}, {'speaker': 'Micheál Martin', 'speaker_uri': '/ie/oireachtas/member/id/Micheál-Martin.D.1989-06-29'}, {'speaker': 'Dr Martin Mansergh', 'speaker_uri': '/ie/oireachtas/member/id/Dr-Martin-Mansergh.S.2002-09-12'}, {'speaker': 'Michael P. Kitt', 'speaker_uri': '-'}, {'speaker': 'Michael Noonan', 'speaker_uri': '/ie/oireachtas/member/id/Michael-Noonan.D.1981-06-30'}, {'speaker': 'Timmy Dooley', 'speaker_uri': '/ie/oireachtas/member/id/Timmy-Dooley.S.2002-09-12'}, {'speaker': 'Michael McGrath', 'speaker_uri': '/ie/oireachtas/member/id/Michael-McGrath.D.2007-06-14'}, {'speaker': 'Brendan Smith', 'speaker_uri': '/ie/oireachtas/member/id/Brendan-Smith.D.1992-12-14'}, {'speaker': \"Darragh O'Brien\", 'speaker_uri': \"/ie/oireachtas/member/id/Darragh-O'Brien.D.2007-06-14\"}, {'speaker': 'Seán Ó Fearghaíl', 'speaker_uri': '/ie/oireachtas/member/id/Seán-Ó-Fearghaíl.S.2000-06-09'}, {'speaker': 'Pearse Doherty', 'speaker_uri': '/ie/oireachtas/member/id/Pearse-Doherty.S.2007-07-23'}, {'speaker': 'Mary Lou McDonald', 'speaker_uri': '/ie/oireachtas/member/id/Mary-Lou-McDonald.D.2011-03-09'}, {'speaker': 'Dessie Ellis', 'speaker_uri': '/ie/oireachtas/member/id/Dessie-Ellis.D.2011-03-09'}, {'speaker': 'Barry Cowen', 'speaker_uri': '/ie/oireachtas/member/id/Barry-Cowen.D.2011-03-09'}, {'speaker': 'Gerry Adams', 'speaker_uri': '/ie/oireachtas/member/id/Gerry-Adams.D.2011-03-09'}, {'speaker': \"Patrick O'Donovan\", 'speaker_uri': \"/ie/oireachtas/member/id/Patrick-O'Donovan.D.2011-03-09\"}, {'speaker': 'Paschal Donohoe', 'speaker_uri': '/ie/oireachtas/member/id/Paschal-Donohoe.S.2007-07-23'}, {'speaker': 'Charlie McConalogue', 'speaker_uri': '/ie/oireachtas/member/id/Charlie-McConalogue.D.2011-03-09'}, {'speaker': 'Frances Fitzgerald', 'speaker_uri': '/ie/oireachtas/member/id/Frances-Fitzgerald.D.1992-12-14'}, {'speaker': 'Brian Stanley', 'speaker_uri': '/ie/oireachtas/member/id/Brian-Stanley.D.2011-03-09'}, {'speaker': 'Michael Colreavy', 'speaker_uri': '/ie/oireachtas/member/id/Michael-Colreavy.D.2011-03-09'}, {'speaker': 'Dara Murphy', 'speaker_uri': '/ie/oireachtas/member/id/Dara-Murphy.D.2011-03-09'}, {'speaker': 'Seán Crowe', 'speaker_uri': '/ie/oireachtas/member/id/Seán-Crowe.D.2002-06-06'}, {'speaker': 'Seán Kyne', 'speaker_uri': '/ie/oireachtas/member/id/Seán-Kyne.D.2011-03-09'}, {'speaker': 'Brian Walsh', 'speaker_uri': '/ie/oireachtas/member/id/Brian-Walsh.D.2011-03-09'}, {'speaker': 'Regina Doherty', 'speaker_uri': '/ie/oireachtas/member/id/Regina-Doherty.D.2011-03-09'}, {'speaker': 'Helen McEntee', 'speaker_uri': '/ie/oireachtas/member/id/Helen-McEntee.D.2013-03-27'}, {'speaker': 'Eoin Ó Broin', 'speaker_uri': '/ie/oireachtas/member/id/Eoin-Ó-Broin.D.2016-10-03'}, {'speaker': 'David Cullinane', 'speaker_uri': '/ie/oireachtas/member/id/David-Cullinane.S.2011-05-25'}, {'speaker': \"Louise O'Reilly\", 'speaker_uri': \"/ie/oireachtas/member/id/Louise-O'Reilly.D.2016-10-03\"}, {'speaker': 'Donnchadh Ó Laoghaire', 'speaker_uri': '/ie/oireachtas/member/id/Donnchadh-Ó-Laoghaire.D.2016-10-03'}, {'speaker': 'Declan Breathnach', 'speaker_uri': '/ie/oireachtas/member/id/Declan-Breathnach.D.2016-10-03'}, {'speaker': 'Mary Butler', 'speaker_uri': '/ie/oireachtas/member/id/Mary-Butler.D.2016-10-03'}, {'speaker': 'Lisa Chambers', 'speaker_uri': '/ie/oireachtas/member/id/Lisa-Chambers.D.2016-10-03'}, {'speaker': 'Stephen S. Donnelly', 'speaker_uri': '/ie/oireachtas/member/id/Stephen-Donnelly.D.2011-03-09'}]\n"
     ]
    }
   ],
   "source": [
    "# Extract the party and ISO code for each speaker in speakers_in_csv\n",
    "speakers_party_iso = df_csv[df_csv['speaker'].isin(speakers_in_csv)][['speaker', 'party', 'iso3country', 'speaker_uri']].drop_duplicates()\n",
    "\n",
    "# Print the results\n",
    "print(speakers_party_iso)\n",
    "\n",
    "# Filter the data to include only the parties Fine Gael, Sinn Féin, and Fianna Fáil\n",
    "filtered_speakers_party_iso = speakers_party_iso[speakers_party_iso['party'].isin(['Fine Gael', 'Sinn Féin', 'Fianna Fáil'])]\n",
    "\n",
    "# Print the filtered results\n",
    "print(filtered_speakers_party_iso)\n",
    "\n",
    "# Group the data by speaker and count the number of occurrences for each\n",
    "speaker_counts = filtered_speakers_party_iso['speaker'].value_counts()\n",
    "\n",
    "# Print the count for each speaker\n",
    "# Create a JSON with unique speakers and their speaker_uri\n",
    "unique_speakers_json = filtered_speakers_party_iso.drop_duplicates(subset='speaker')[['speaker', 'speaker_uri']].to_dict(orient='records')\n",
    "\n",
    "# Print the JSON\n",
    "print(unique_speakers_json)\n",
    "\n",
    "# Save the JSON to a file\n",
    "with open('unique_speakers_filtered.json', 'w', encoding='utf-8') as f:\n",
    "    json.dump(unique_speakers_json, f, ensure_ascii=False, indent=4)"
   ]
  },
  {
   "cell_type": "code",
   "execution_count": null,
   "id": "5c2c021e",
   "metadata": {},
   "outputs": [
    {
     "name": "stdout",
     "output_type": "stream",
     "text": [
      "Collecting selenium\n",
      "  Downloading selenium-4.31.0-py3-none-any.whl (9.4 MB)\n",
      "     ---------------------------------------- 0.0/9.4 MB ? eta -:--:--\n",
      "     ---------------------------------------- 0.1/9.4 MB 2.3 MB/s eta 0:00:05\n",
      "     - -------------------------------------- 0.3/9.4 MB 3.2 MB/s eta 0:00:03\n",
      "     - -------------------------------------- 0.4/9.4 MB 2.8 MB/s eta 0:00:04\n",
      "     -- ------------------------------------- 0.5/9.4 MB 2.8 MB/s eta 0:00:04\n",
      "     --- ------------------------------------ 0.8/9.4 MB 3.8 MB/s eta 0:00:03\n",
      "     ----- ---------------------------------- 1.2/9.4 MB 4.5 MB/s eta 0:00:02\n",
      "     ------- -------------------------------- 1.8/9.4 MB 5.6 MB/s eta 0:00:02\n",
      "     --------- ------------------------------ 2.2/9.4 MB 6.0 MB/s eta 0:00:02\n",
      "     ------------ --------------------------- 2.8/9.4 MB 6.7 MB/s eta 0:00:01\n",
      "     ------------- -------------------------- 3.2/9.4 MB 6.9 MB/s eta 0:00:01\n",
      "     ---------------- ----------------------- 3.9/9.4 MB 7.5 MB/s eta 0:00:01\n",
      "     ------------------ --------------------- 4.4/9.4 MB 7.7 MB/s eta 0:00:01\n",
      "     -------------------- ------------------- 4.9/9.4 MB 7.8 MB/s eta 0:00:01\n",
      "     ---------------------- ----------------- 5.2/9.4 MB 7.7 MB/s eta 0:00:01\n",
      "     ------------------------ --------------- 5.7/9.4 MB 7.8 MB/s eta 0:00:01\n",
      "     ------------------------- -------------- 6.0/9.4 MB 7.8 MB/s eta 0:00:01\n",
      "     --------------------------- ------------ 6.3/9.4 MB 8.1 MB/s eta 0:00:01\n",
      "     ----------------------------- ---------- 7.0/9.4 MB 8.1 MB/s eta 0:00:01\n",
      "     -------------------------------- ------- 7.5/9.4 MB 8.2 MB/s eta 0:00:01\n",
      "     --------------------------------- ------ 7.9/9.4 MB 8.3 MB/s eta 0:00:01\n",
      "     ----------------------------------- ---- 8.3/9.4 MB 8.4 MB/s eta 0:00:01\n",
      "     ------------------------------------- -- 8.9/9.4 MB 8.6 MB/s eta 0:00:01\n",
      "     ---------------------------------------  9.3/9.4 MB 8.5 MB/s eta 0:00:01\n",
      "     ---------------------------------------  9.3/9.4 MB 8.4 MB/s eta 0:00:01\n",
      "     ---------------------------------------- 9.4/9.4 MB 7.8 MB/s eta 0:00:00\n",
      "Requirement already satisfied: urllib3[socks]<3,>=1.26 in c:\\users\\mathi\\appdata\\local\\programs\\python\\python310\\lib\\site-packages (from selenium) (2.3.0)\n",
      "Collecting websocket-client~=1.8\n",
      "  Downloading websocket_client-1.8.0-py3-none-any.whl (58 kB)\n",
      "     ---------------------------------------- 0.0/58.8 kB ? eta -:--:--\n",
      "     ---------------------------------------- 58.8/58.8 kB 3.0 MB/s eta 0:00:00\n",
      "Collecting trio-websocket~=0.9\n",
      "  Downloading trio_websocket-0.12.2-py3-none-any.whl (21 kB)\n",
      "Collecting trio~=0.17\n",
      "  Downloading trio-0.30.0-py3-none-any.whl (499 kB)\n",
      "     ---------------------------------------- 0.0/499.2 kB ? eta -:--:--\n",
      "     ------------------------------ ------- 399.4/499.2 kB 8.3 MB/s eta 0:00:01\n",
      "     ------------------------------------- 499.2/499.2 kB 10.4 MB/s eta 0:00:00\n",
      "Requirement already satisfied: typing_extensions~=4.9 in c:\\users\\mathi\\appdata\\roaming\\python\\python310\\site-packages (from selenium) (4.12.2)\n",
      "Requirement already satisfied: certifi>=2021.10.8 in c:\\users\\mathi\\appdata\\local\\programs\\python\\python310\\lib\\site-packages (from selenium) (2025.1.31)\n",
      "Collecting sniffio>=1.3.0\n",
      "  Downloading sniffio-1.3.1-py3-none-any.whl (10 kB)\n",
      "Collecting cffi>=1.14\n",
      "  Downloading cffi-1.17.1-cp310-cp310-win_amd64.whl (181 kB)\n",
      "     ---------------------------------------- 0.0/181.3 kB ? eta -:--:--\n",
      "     -------------------------------------- 181.3/181.3 kB 5.5 MB/s eta 0:00:00\n",
      "Collecting sortedcontainers\n",
      "  Downloading sortedcontainers-2.4.0-py2.py3-none-any.whl (29 kB)\n",
      "Collecting outcome\n",
      "  Downloading outcome-1.3.0.post0-py2.py3-none-any.whl (10 kB)\n",
      "Requirement already satisfied: idna in c:\\users\\mathi\\appdata\\local\\programs\\python\\python310\\lib\\site-packages (from trio~=0.17->selenium) (3.10)\n",
      "Requirement already satisfied: attrs>=23.2.0 in c:\\users\\mathi\\appdata\\local\\programs\\python\\python310\\lib\\site-packages (from trio~=0.17->selenium) (25.3.0)\n",
      "Requirement already satisfied: exceptiongroup in c:\\users\\mathi\\appdata\\roaming\\python\\python310\\site-packages (from trio~=0.17->selenium) (1.2.2)\n",
      "Collecting wsproto>=0.14\n",
      "  Downloading wsproto-1.2.0-py3-none-any.whl (24 kB)\n",
      "Collecting pysocks!=1.5.7,<2.0,>=1.5.6\n",
      "  Downloading PySocks-1.7.1-py3-none-any.whl (16 kB)\n",
      "Collecting pycparser\n",
      "  Downloading pycparser-2.22-py3-none-any.whl (117 kB)\n",
      "     ---------------------------------------- 0.0/117.6 kB ? eta -:--:--\n",
      "     -------------------------------------- 117.6/117.6 kB 6.7 MB/s eta 0:00:00\n",
      "Collecting h11<1,>=0.9.0\n",
      "  Downloading h11-0.14.0-py3-none-any.whl (58 kB)\n",
      "     ---------------------------------------- 0.0/58.3 kB ? eta -:--:--\n",
      "     ---------------------------------------- 58.3/58.3 kB 3.0 MB/s eta 0:00:00\n",
      "Installing collected packages: sortedcontainers, websocket-client, sniffio, pysocks, pycparser, outcome, h11, wsproto, cffi, trio, trio-websocket, selenium\n",
      "Successfully installed cffi-1.17.1 h11-0.14.0 outcome-1.3.0.post0 pycparser-2.22 pysocks-1.7.1 selenium-4.31.0 sniffio-1.3.1 sortedcontainers-2.4.0 trio-0.30.0 trio-websocket-0.12.2 websocket-client-1.8.0 wsproto-1.2.0\n",
      "Note: you may need to restart the kernel to use updated packages.\n"
     ]
    },
    {
     "name": "stderr",
     "output_type": "stream",
     "text": [
      "  WARNING: The script wsdump.exe is installed in 'c:\\Users\\mathi\\AppData\\Local\\Programs\\Python\\Python310\\Scripts' which is not on PATH.\n",
      "  Consider adding this directory to PATH or, if you prefer to suppress this warning, use --no-warn-script-location.\n",
      "\n",
      "[notice] A new release of pip is available: 23.0.1 -> 25.0.1\n",
      "[notice] To update, run: python.exe -m pip install --upgrade pip\n"
     ]
    }
   ],
   "source": [
    "pip install selenium\n"
   ]
  },
  {
   "cell_type": "code",
   "execution_count": null,
   "id": "b65800af",
   "metadata": {},
   "outputs": [],
   "source": [
    "from selenium import webdriver\n",
    "from selenium.webdriver.common.by import By\n",
    "import json\n",
    "import time\n",
    "\n",
    "# Function to construct the public URL for a speaker based on their URI\n",
    "def get_public_url(speaker_uri):\n",
    "    # Extract the member ID from the end of the speaker_uri\n",
    "    member_id = speaker_uri.split('/')[-1]\n",
    "    return f\"https://www.oireachtas.ie/en/members/member/{member_id}/\"\n",
    "\n",
    "# Load the JSON file containing speaker data\n",
    "with open('unique_speakers_filtered.json', 'r', encoding='utf-8') as f:\n",
    "    speakers = json.load(f)\n",
    "\n",
    "# Initialize the browser (ensure you have the correct driver installed)\n",
    "driver = webdriver.Chrome()\n",
    "\n",
    "try:\n",
    "    for speaker in speakers:\n",
    "        uri = speaker.get('speaker_uri')\n",
    "        if uri and uri != \"-\":\n",
    "            # Construct the public URL and navigate to it\n",
    "            public_url = get_public_url(uri)\n",
    "            driver.get(public_url)\n",
    "            time.sleep(2)  # Wait for the page to load\n",
    "\n",
    "            try:\n",
    "                # Locate the constituency element on the page\n",
    "                constituency_element = driver.find_element(\n",
    "                    By.CSS_SELECTOR,\n",
    "                    \".c-member-about__meta-item:nth-child(1) .c-member-about__item-value\"\n",
    "                )\n",
    "                # Extract and store the constituency text\n",
    "                speaker['constituency'] = constituency_element.text.strip()\n",
    "            except Exception as e:\n",
    "                # Handle cases where the constituency element is not found\n",
    "                print(f\"Could not find constituency for speaker: {speaker.get('speaker')}. Error: {e}\")\n",
    "                speaker['constituency'] = None\n",
    "        else:\n",
    "            # If the URI is missing or invalid, set constituency to None\n",
    "            speaker['constituency'] = None\n",
    "finally:\n",
    "    # Close the browser\n",
    "    driver.quit()\n",
    "\n",
    "# Save the updated speaker data back to a JSON file\n",
    "with open('speakers_with_constituency.json', 'w', encoding='utf-8') as f:\n",
    "    json.dump(speakers, f, indent=2, ensure_ascii=False)\n"
   ]
  },
  {
   "cell_type": "code",
   "execution_count": null,
   "id": "f51d4016",
   "metadata": {},
   "outputs": [
    {
     "name": "stdout",
     "output_type": "stream",
     "text": [
      "                        member_name          const_name\n",
      "0     Mr. Erskine Hamilton Childers    Athlone-Longford\n",
      "1             Mr. Patrick J. Little           Waterford\n",
      "2                 Mr. Liam Cosgrave       Dublin County\n",
      "3                 Mr. Eamon Kissane         Kerry North\n",
      "4             Mr. Patrick J. Little           Waterford\n",
      "...                             ...                 ...\n",
      "4614                   Leo Varadkar         Dublin West\n",
      "4615                  Simon Coveney  Cork South-Central\n",
      "4616                  Simon Coveney  Cork South-Central\n",
      "4617                  Simon Coveney  Cork South-Central\n",
      "4618                     Seán Crowe   Dublin South-West\n",
      "\n",
      "[4619 rows x 2 columns]\n"
     ]
    }
   ],
   "source": [
    "# Load the JSON file and create a dictionary for quick lookup\n",
    "with open('speakers_with_constituency.json', 'r', encoding='utf-8') as f:\n",
    "    speakers_with_constituency = json.load(f)\n",
    "\n",
    "# Create a dictionary for quick lookup of speaker names and their constituencies\n",
    "constituency_dict = {speaker['speaker']: speaker['constituency'] for speaker in speakers_with_constituency}\n",
    "\n",
    "# Update the const_name column in df_excel only for names present in the JSON\n",
    "df_excel['const_name'] = df_excel.apply(\n",
    "    lambda row: constituency_dict[row['member_name']] if row['member_name'] in constituency_dict else row['const_name'],\n",
    "    axis=1\n",
    ")\n",
    "\n",
    "# Print the updated dataframe\n",
    "print(df_excel[['member_name', 'const_name']])\n"
   ]
  },
  {
   "cell_type": "code",
   "execution_count": null,
   "id": "23c69bca",
   "metadata": {},
   "outputs": [
    {
     "name": "stdout",
     "output_type": "stream",
     "text": [
      "Membri con const_name NaN: ['Michael P. Kitt']\n",
      "          member_name   const_name\n",
      "4390  Michael P. Kitt  Galway East\n",
      "4391  Michael P. Kitt  Galway East\n",
      "4392  Michael P. Kitt  Galway East\n",
      "4393  Michael P. Kitt  Galway East\n",
      "4394  Michael P. Kitt  Galway East\n",
      "4395  Michael P. Kitt  Galway East\n",
      "4412  Michael P. Kitt  Galway East\n",
      "4413  Michael P. Kitt  Galway East\n",
      "4414  Michael P. Kitt  Galway East\n",
      "4415  Michael P. Kitt  Galway East\n",
      "4416  Michael P. Kitt  Galway East\n",
      "4417  Michael P. Kitt  Galway East\n",
      "4418  Michael P. Kitt  Galway East\n",
      "4419  Michael P. Kitt  Galway East\n",
      "4420  Michael P. Kitt  Galway East\n",
      "4421  Michael P. Kitt  Galway East\n",
      "4422  Michael P. Kitt  Galway East\n"
     ]
    }
   ],
   "source": [
    "# Filter members with const_name equal to NaN\n",
    "members_with_nan_const_name = df_excel[df_excel['const_name'].isna()]['member_name'].unique()\n",
    "\n",
    "# Print the results\n",
    "print(\"Members with const_name NaN:\", members_with_nan_const_name)\n",
    "\n",
    "# Correct the const_name for members with const_name equal to NaN\n",
    "df_excel.loc[df_excel['member_name'] == 'Michael P. Kitt', 'const_name'] = 'Galway East'\n",
    "\n",
    "# Print the updated dataframe to verify the correction\n",
    "print(df_excel[df_excel['member_name'] == 'Michael P. Kitt'][['member_name', 'const_name']])"
   ]
  },
  {
   "cell_type": "markdown",
   "id": "ab45f561",
   "metadata": {},
   "source": [
    "here i manually updated the dataframe since this specific spekaer was creating problems with the dataset"
   ]
  },
  {
   "cell_type": "code",
   "execution_count": null,
   "id": "3e31ea73",
   "metadata": {},
   "outputs": [
    {
     "name": "stdout",
     "output_type": "stream",
     "text": [
      "Empty DataFrame\n",
      "Columns: [const_name, border_constituency]\n",
      "Index: []\n",
      "Empty DataFrame\n",
      "Columns: [const_name, border_constituency]\n",
      "Index: []\n"
     ]
    }
   ],
   "source": [
    "# Group by const_name and check if there are different values in border_constituency\n",
    "conflicting_border_constituencies = df_excel.groupby('const_name')['border_constituency'].nunique()\n",
    "\n",
    "# Filter const_name with more than one unique value in border_constituency\n",
    "conflicting_const_names = conflicting_border_constituencies[conflicting_border_constituencies > 1].index\n",
    "\n",
    "# Filter the dataframe to show only const_name with conflicts\n",
    "conflicting_rows = df_excel[df_excel['const_name'].isin(conflicting_const_names)]\n",
    "\n",
    "# Print the results\n",
    "print(conflicting_rows[['const_name', 'border_constituency']].drop_duplicates())\n",
    "\n",
    "# Correct the value of border_constituency for const_name with conflicts\n",
    "df_excel.loc[df_excel['const_name'].isin(conflicting_const_names), 'border_constituency'] = 1\n",
    "\n",
    "# Print the updated dataframe to verify the correction\n",
    "print(df_excel[df_excel['const_name'].isin(conflicting_const_names)][['const_name', 'border_constituency']].drop_duplicates())\n"
   ]
  },
  {
   "cell_type": "code",
   "execution_count": 46,
   "id": "cb2c2c40",
   "metadata": {},
   "outputs": [],
   "source": [
    "# Save the df_excel DataFrame as an Excel file\n",
    "df_excel.to_excel('normalized_controls_dataset_correct_pt2.xlsx', index=False)"
   ]
  }
 ],
 "metadata": {
  "kernelspec": {
   "display_name": "Python 3",
   "language": "python",
   "name": "python3"
  },
  "language_info": {
   "codemirror_mode": {
    "name": "ipython",
    "version": 3
   },
   "file_extension": ".py",
   "mimetype": "text/x-python",
   "name": "python",
   "nbconvert_exporter": "python",
   "pygments_lexer": "ipython3",
   "version": "3.10.11"
  }
 },
 "nbformat": 4,
 "nbformat_minor": 5
}
